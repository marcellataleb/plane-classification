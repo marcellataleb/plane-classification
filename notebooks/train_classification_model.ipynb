{
  "nbformat": 4,
  "nbformat_minor": 0,
  "metadata": {
    "colab": {
      "name": "train_classification_model.ipynb",
      "provenance": [],
      "authorship_tag": "ABX9TyN63CdKJbQpBS8t1wg+cSHg",
      "include_colab_link": true
    },
    "kernelspec": {
      "name": "python3",
      "display_name": "Python 3"
    },
    "language_info": {
      "name": "python"
    }
  },
  "cells": [
    {
      "cell_type": "markdown",
      "metadata": {
        "id": "view-in-github",
        "colab_type": "text"
      },
      "source": [
        "<a href=\"https://colab.research.google.com/github/marcellataleb/plane-classification/blob/main/notebooks/train_classification_model.ipynb\" target=\"_parent\"><img src=\"https://colab.research.google.com/assets/colab-badge.svg\" alt=\"Open In Colab\"/></a>"
      ]
    },
    {
      "cell_type": "code",
      "execution_count": 2,
      "metadata": {
        "colab": {
          "base_uri": "https://localhost:8080/"
        },
        "id": "e4AflhH-YuDj",
        "outputId": "7f4f3d9b-e635-4777-eeab-90ab5175d5d9"
      },
      "outputs": [
        {
          "output_type": "stream",
          "name": "stdout",
          "text": [
            "  % Total    % Received % Xferd  Average Speed   Time    Time     Time  Current\n",
            "                                 Dload  Upload   Total   Spent    Left  Speed\n",
            "  0     0    0     0    0     0      0      0 --:--:--  0:00:01 --:--:--     0^C\n",
            "\n",
            "gzip: stdin: unexpected end of file\n",
            "tar: Unexpected EOF in archive\n",
            "tar: Unexpected EOF in archive\n",
            "tar: Error is not recoverable: exiting now\n"
          ]
        }
      ],
      "source": [
        "!curl -O https://www.robots.ox.ac.uk/~vgg/data/fgvc-aircraft/archives/fgvc-aircraft-2013b.tar.gz\n",
        "!tar xzf fgvc-aircraft-2013b.tar.gz\n",
        "!mv fgvc-aircraft-2013b dataset"
      ]
    },
    {
      "cell_type": "code",
      "source": [
        "import pathlib #permet de gérer proprement le chemin d'accès \n",
        "\n",
        "import pandas as pd "
      ],
      "metadata": {
        "id": "WVH3yLgIZUic"
      },
      "execution_count": 5,
      "outputs": []
    },
    {
      "cell_type": "code",
      "source": [
        "# On met en majuscule car c'est une constante et ne va pas changer\n",
        "DATA_DIR = pathlib.Path('dataset/data')"
      ],
      "metadata": {
        "id": "STLPm5Yxbh2b"
      },
      "execution_count": 6,
      "outputs": []
    },
    {
      "cell_type": "code",
      "source": [
        "manufacturer_df = pd.read_csv(DATA_DIR / 'images_manufacturer_train.txt', sep='\\t',            \n",
        "            names=['all'],  \n",
        "            dtype={'all': str},                  \n",
        "            ) \n",
        "\n",
        "# la fonction split() découpe une chaîne de caractères\n",
        "manufacturer_df['image_id'] = manufacturer_df['all'].apply(lambda x: x.split(' ')[0])\n",
        "\n",
        "# la fonction '<car>'.join(liste) concatène les éléments de liste en utilisant le séparateur <car>\n",
        "manufacturer_df['manufacturer'] = manufacturer_df['all'].apply(lambda x: ' '.join(x.split(' ')[1:]))"
      ],
      "metadata": {
        "id": "Vwt0VxoQa3NJ"
      },
      "execution_count": 49,
      "outputs": []
    },
    {
      "cell_type": "code",
      "source": [
        "! grep 'T' dataset/data/images_manufacturer_train.txt | head #vérifie si un caractère apparaît dans un fichier ou pas"
      ],
      "metadata": {
        "colab": {
          "base_uri": "https://localhost:8080/"
        },
        "id": "kDcmqWOsoa1P",
        "outputId": "7d7fbfbb-5252-405c-b2c9-d7bceaff5833"
      },
      "execution_count": 56,
      "outputs": [
        {
          "output_type": "stream",
          "name": "stdout",
          "text": [
            "0724121 ATR\n",
            "0619697 ATR\n",
            "2243949 ATR\n",
            "0097110 ATR\n",
            "0851153 ATR\n",
            "1143414 ATR\n",
            "0574292 ATR\n",
            "1093637 ATR\n",
            "2026727 ATR\n",
            "0833334 ATR\n"
          ]
        }
      ]
    },
    {
      "cell_type": "code",
      "source": [
        "# pour afficher seulement 3 lignes\n",
        "! grep 'T' dataset/data/images_manufacturer_train.txt | head -3 "
      ],
      "metadata": {
        "colab": {
          "base_uri": "https://localhost:8080/"
        },
        "id": "g5v2BcjgpHqM",
        "outputId": "0030c62f-3831-425f-c359-d4dbb341745f"
      },
      "execution_count": 58,
      "outputs": [
        {
          "output_type": "stream",
          "name": "stdout",
          "text": [
            "0724121 ATR\n",
            "0619697 ATR\n",
            "2243949 ATR\n"
          ]
        }
      ]
    },
    {
      "cell_type": "code",
      "source": [
        "# wc : compte le nombre d'éléments (-1 : ligne, -c : caractère, -w : word)\n",
        "! grep 'T' dataset/data/images_manufacturer_train.txt | wc -l "
      ],
      "metadata": {
        "colab": {
          "base_uri": "https://localhost:8080/"
        },
        "id": "OUJ7Ig7zpdQA",
        "outputId": "a8b0c1b1-da62-4da1-e558-bf1a1bb13eba"
      },
      "execution_count": 61,
      "outputs": [
        {
          "output_type": "stream",
          "name": "stdout",
          "text": [
            "132\n"
          ]
        }
      ]
    },
    {
      "cell_type": "code",
      "source": [
        "! cut -f 1 -d ' ' dataset/data/images_manufacturer_train.txt | head\n",
        "# d : délimiteur"
      ],
      "metadata": {
        "colab": {
          "base_uri": "https://localhost:8080/"
        },
        "id": "FayeM1VfqJO-",
        "outputId": "d2d28a0d-8f9e-44d5-fb48-6d985ae07030"
      },
      "execution_count": 64,
      "outputs": [
        {
          "output_type": "stream",
          "name": "stdout",
          "text": [
            "1025794\n",
            "1340192\n",
            "0056978\n",
            "0698580\n",
            "0450014\n",
            "1042824\n",
            "0894380\n",
            "1427680\n",
            "0817494\n",
            "0716386\n"
          ]
        }
      ]
    },
    {
      "cell_type": "code",
      "source": [
        "manufacturer_df['manufacturer'].unique()"
      ],
      "metadata": {
        "colab": {
          "base_uri": "https://localhost:8080/"
        },
        "id": "EnOj49cQmBQd",
        "outputId": "106307c7-c29e-439c-c833-ce14a98c84ce"
      },
      "execution_count": 50,
      "outputs": [
        {
          "output_type": "execute_result",
          "data": {
            "text/plain": [
              "array(['Boeing', 'Airbus', 'ATR', 'Antonov', 'British Aerospace',\n",
              "       'Beechcraft', 'Lockheed Corporation', 'Douglas Aircraft Company',\n",
              "       'Canadair', 'Cessna', 'McDonnell Douglas', 'de Havilland', 'Robin',\n",
              "       'Dornier', 'Embraer', 'Eurofighter', 'Lockheed Martin',\n",
              "       'Dassault Aviation', 'Fokker', 'Bombardier Aerospace',\n",
              "       'Gulfstream Aerospace', 'Ilyushin', 'Fairchild', 'Piper',\n",
              "       'Cirrus Aircraft', 'Saab', 'Supermarine', 'Panavia', 'Tupolev',\n",
              "       'Yakovlev'], dtype=object)"
            ]
          },
          "metadata": {},
          "execution_count": 50
        }
      ]
    },
    {
      "cell_type": "code",
      "source": [
        "manufacturer_df['manufacturer'].value_counts(dropna=False)"
      ],
      "metadata": {
        "colab": {
          "base_uri": "https://localhost:8080/"
        },
        "id": "JcW-jcvUd_G7",
        "outputId": "103631e2-86a3-4726-ce5f-60dd027a0151"
      },
      "execution_count": 51,
      "outputs": [
        {
          "output_type": "execute_result",
          "data": {
            "text/plain": [
              "Boeing                      733\n",
              "Airbus                      434\n",
              "Embraer                     233\n",
              "McDonnell Douglas           232\n",
              "de Havilland                167\n",
              "Canadair                    134\n",
              "Douglas Aircraft Company    133\n",
              "Cessna                      133\n",
              "British Aerospace           133\n",
              "Fokker                      100\n",
              "Lockheed Corporation         68\n",
              "Beechcraft                   67\n",
              "Saab                         67\n",
              "Gulfstream Aerospace         67\n",
              "Dassault Aviation            67\n",
              "Tupolev                      66\n",
              "ATR                          66\n",
              "Panavia                      34\n",
              "Yakovlev                     34\n",
              "Lockheed Martin              34\n",
              "Dornier                      34\n",
              "Antonov                      34\n",
              "Bombardier Aerospace         33\n",
              "Ilyushin                     33\n",
              "Fairchild                    33\n",
              "Piper                        33\n",
              "Cirrus Aircraft              33\n",
              "Supermarine                  33\n",
              "Robin                        33\n",
              "Eurofighter                  33\n",
              "Name: manufacturer, dtype: int64"
            ]
          },
          "metadata": {},
          "execution_count": 51
        }
      ]
    },
    {
      "cell_type": "code",
      "source": [
        "manufacturer_df.isna().sum() #une autre façon de garantir qu'il n'y a pas de valeur manquante"
      ],
      "metadata": {
        "colab": {
          "base_uri": "https://localhost:8080/"
        },
        "id": "Zi_ZZm5RiEeX",
        "outputId": "e626e4a4-77d5-42fe-9e05-1bbc991b987c"
      },
      "execution_count": 52,
      "outputs": [
        {
          "output_type": "execute_result",
          "data": {
            "text/plain": [
              "all             0\n",
              "image_id        0\n",
              "manufacturer    0\n",
              "dtype: int64"
            ]
          },
          "metadata": {},
          "execution_count": 52
        }
      ]
    },
    {
      "cell_type": "code",
      "source": [
        "# Si c'est égal à 0 pas de problème, sinon il donne un message d'erreur \n",
        "assert manufacturer_df['image_id'].isna().sum() == 0, \"Valeur manquante dans image_id\"\n",
        "assert manufacturer_df['manufacturer'].isna().sum() == 0, \"Valeur manquante dans manufacturer\""
      ],
      "metadata": {
        "id": "BzwrxsariOVx"
      },
      "execution_count": 53,
      "outputs": []
    }
  ]
}