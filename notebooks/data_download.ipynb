{
  "nbformat": 4,
  "nbformat_minor": 0,
  "metadata": {
    "colab": {
      "name": "data_download.ipynb",
      "provenance": [],
      "authorship_tag": "ABX9TyO4/52mmjZ6OfM4zKHg30YI",
      "include_colab_link": true
    },
    "kernelspec": {
      "name": "python3",
      "display_name": "Python 3"
    },
    "language_info": {
      "name": "python"
    }
  },
  "cells": [
    {
      "cell_type": "markdown",
      "metadata": {
        "id": "view-in-github",
        "colab_type": "text"
      },
      "source": [
        "<a href=\"https://colab.research.google.com/github/marcellataleb/plane-classification/blob/main/notebooks/data_download.ipynb\" target=\"_parent\"><img src=\"https://colab.research.google.com/assets/colab-badge.svg\" alt=\"Open In Colab\"/></a>"
      ]
    },
    {
      "cell_type": "markdown",
      "source": [
        "# Download images & annotations"
      ],
      "metadata": {
        "id": "vEtcApyv_-z3"
      }
    },
    {
      "cell_type": "code",
      "execution_count": 3,
      "metadata": {
        "colab": {
          "base_uri": "https://localhost:8080/"
        },
        "id": "xkYJK2V06VbQ",
        "outputId": "783a9442-84df-4efc-b884-313c101dd4fc"
      },
      "outputs": [
        {
          "output_type": "stream",
          "name": "stdout",
          "text": [
            "  % Total    % Received % Xferd  Average Speed   Time    Time     Time  Current\n",
            "                                 Dload  Upload   Total   Spent    Left  Speed\n",
            "100 2625M  100 2625M    0     0  7915k      0  0:05:39  0:05:39 --:--:-- 12.2M\n"
          ]
        }
      ],
      "source": [
        "!curl -O https://www.robots.ox.ac.uk/~vgg/data/fgvc-aircraft/archives/fgvc-aircraft-2013b.tar.gz"
      ]
    },
    {
      "cell_type": "code",
      "source": [
        "# Fichiers tar \n",
        "# Commandes : \n",
        "# x : extraitre\n",
        "# t : lister les fichiers sans décompresser \n",
        "# v : pour avoir du détail (verbose)\n",
        "# z : le fichier est compressé\n",
        "# c : pour créer un tarfile \n",
        "# f : pour indiquer le nom du fichier (en dernier dans la liste des options)\n",
        "\n",
        "# Exemple pour lister les fichiers avant de décompresser \n",
        "# !tar tzvf fgvc-aircraft-2013b.tar.gz"
      ],
      "metadata": {
        "id": "cAFjILi_81IW"
      },
      "execution_count": 6,
      "outputs": []
    },
    {
      "cell_type": "markdown",
      "source": [
        "# Untar files"
      ],
      "metadata": {
        "id": "v3bcDk_SAGoI"
      }
    },
    {
      "cell_type": "code",
      "source": [
        "!tar xzf fgvc-aircraft-2013b.tar.gz"
      ],
      "metadata": {
        "id": "R_QYVHrRAIe9"
      },
      "execution_count": null,
      "outputs": []
    },
    {
      "cell_type": "markdown",
      "source": [
        "# Rename Dataset"
      ],
      "metadata": {
        "id": "bBqUL6KLYMYB"
      }
    },
    {
      "cell_type": "code",
      "source": [
        "!mv fgvc-aircraft-2013b dataset "
      ],
      "metadata": {
        "id": "bGNt6evqYOP2"
      },
      "execution_count": 7,
      "outputs": []
    }
  ]
}